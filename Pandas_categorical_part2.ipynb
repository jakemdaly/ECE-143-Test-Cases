{
 "metadata": {
  "language_info": {
   "codemirror_mode": {
    "name": "ipython",
    "version": 3
   },
   "file_extension": ".py",
   "mimetype": "text/x-python",
   "name": "python",
   "nbconvert_exporter": "python",
   "pygments_lexer": "ipython3",
   "version": 3
  },
  "orig_nbformat": 2
 },
 "nbformat": 4,
 "nbformat_minor": 2,
 "cells": [
  {
   "source": [
    "Add a new column using Timestamp column\n",
    "Using the same survey dataframe from before, create a dataframe column month-yr with ID as row-index like the following,\n",
    "\tmonth-yr\n",
    "ID\t\n",
    "3931\tSep-2017\n",
    "4205\tSep-2017\n",
    "...\t...\n",
    "2524\tJan-2019\n",
    "Note that each of the entries is a string. That is, given that your original survey dataframe is x, you should be able to produce the output above from\n",
    ">>> x['month-yr'] \n",
    "Your function add_month_yr(x) should take in the x survey dataframe and then output the same dataframe with a new month-yr column.\n",
    "Here is the function signature: add_month_yr(x) where x is a pd.DataFrame and returns the same pd.DataFrame with the new column. This means all you have to do is take the input dataframe and add a single column to it."
   ],
   "cell_type": "markdown",
   "metadata": {}
  },
  {
   "source": [
    "Validation Tests Check for corner cases and constraints in the inputs enlist all cases used for testing"
   ],
   "cell_type": "markdown",
   "metadata": {}
  },
  {
   "cell_type": "code",
   "execution_count": null,
   "metadata": {},
   "outputs": [],
   "source": [
    "assert isinstance(x,pd.DataFrame)"
   ]
  },
  {
   "source": [
    "Functional Tests Check function output matches expected result enlist all cases used for testing"
   ],
   "cell_type": "markdown",
   "metadata": {}
  },
  {
   "cell_type": "code",
   "execution_count": null,
   "metadata": {},
   "outputs": [],
   "source": [
    "import pandas as pd\n",
    "x = pd.read_csv('survey_data.csv') \n",
    "assert isinstance(add_month_yr(x),pd.DataFrame) # assert output of function is a dataframe\n",
    "x['month-yr'] = pd.to_datetime(x['Timestamp']).dt.strftime('%b-%Y')\n",
    "assert add_month_yr(x) == x # assert output of function is x dataframe with month-yr column"
   ]
  }
 ]
}