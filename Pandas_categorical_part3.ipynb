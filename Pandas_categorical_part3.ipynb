{
 "cells": [
  {
   "cell_type": "markdown",
   "metadata": {},
   "source": [
    "##  Pandas categorical Part 3\n",
    "Write a function count_month_yr to create the following dataframe using your new column month-yr,"
   ]
  },
  {
   "cell_type": "markdown",
   "metadata": {},
   "source": [
    " | |Timestamp|\n",
    " |----|-----|\n",
    " |month-yr|  | \n",
    " |Apr-2018| 28 | \n",
    " |Feb-2018 | 2 |\n",
    " |Jan-2018 | 148 |\n",
    " |Mar-2018 | 41 |\n",
    " |Oct-2018 | 6 |\n",
    " |Sep-2018 | 74 |\n",
    " |Sep-2018 | 130 |"
   ]
  },
  {
   "cell_type": "markdown",
   "metadata": {},
   "source": [
    "Notice that the order of the dates is incorrect. We will fix that later. Remember to include your add_month_yr code from the previous part, as your new function needs the output from it.\n",
    "\n",
    "Here is the function signature: count_month_yr(x) where x is a pd.DataFrame that returns a pd.DataFrame.\n",
    "\n",
    "Please put your Python code in a Python script file and upload it. Please retain your submitted source files! Remember to use all the best practices we discussed in class. You can use any module in the Python standard library, but third-party modules (e.g., Numpy, Pandas) are restricted to those explicitly mentioned in the problem description.\n",
    "\n",
    "After you have submitted your file, do not use the browser back or reload buttons to navigate or open the page in multiple browser tabs, as this may cause your attempts to decrease unexpectedly. It may take up to thirty seconds for your code to be processed, so please be patient.\n",
    "\n",
    "Good luck!"
   ]
  },
  {
   "cell_type": "markdown",
   "metadata": {},
   "source": [
    "**Validation Tests** <br>\n",
    "Check for corner cases and constraints in the inputs enlist all cases used for testing"
   ]
  },
  {
   "cell_type": "code",
   "execution_count": null,
   "metadata": {},
   "outputs": [],
   "source": [
    "assert(isinstance(x, pd.DataFrame)) #input x must be a Pandas Dataframe, if some non dataframe input is sent, should raise assertion error"
   ]
  },
  {
   "cell_type": "markdown",
   "metadata": {},
   "source": [
    "**Functional Tests** <br>\n",
    "Check function output matches expected result enlist all cases used for testing"
   ]
  },
  {
   "cell_type": "code",
   "execution_count": null,
   "metadata": {},
   "outputs": [],
   "source": [
    "import pandas as pd\n",
    "df = pd.read_csv('survey_data_.csv')\n",
    "x = (add_month_yr(df))\n",
    "assert(isinstance(x,pd.DataFrame))     #checking if add_month_yr function returns a Pandas dataframe"
   ]
  },
  {
   "cell_type": "code",
   "execution_count": null,
   "metadata": {},
   "outputs": [],
   "source": [
    "y = (count_month_yr(x))\n",
    "assert(isinstance(y,pd.DataFrame))   #checking if count_month_yr function returns a Pandas dataframe"
   ]
  },
  {
   "cell_type": "code",
   "execution_count": null,
   "metadata": {},
   "outputs": [],
   "source": [
    "d = {'month-yr': ['Apr-2018', 'Feb-2018', 'Jan-2018', 'Jan-2019', 'Mar-2018', 'Oct-2018', 'Sep-2017', 'Sep-2018' ], 'Timestamp': [28, 2, 148,57, 41, 6, 74, 130]}\n",
    "dfn = pd.DataFrame(data=d)\n",
    "dfn.set_index('month-yr', inplace=True)\n",
    "dfn = dfn.sort_index()\n",
    "y = y.sort_index()\n",
    "assert(dfn.equals(y)) #checks if the dataframe consists of columns month-yr and Timestamp and has the required entries"
   ]
  }
 ],
 "metadata": {
  "kernelspec": {
   "display_name": "Python 3",
   "language": "python",
   "name": "python3"
  },
  "language_info": {
   "codemirror_mode": {
    "name": "ipython",
    "version": 3
   },
   "file_extension": ".py",
   "mimetype": "text/x-python",
   "name": "python",
   "nbconvert_exporter": "python",
   "pygments_lexer": "ipython3",
   "version": "3.7.4"
  }
 },
 "nbformat": 4,
 "nbformat_minor": 2
}
