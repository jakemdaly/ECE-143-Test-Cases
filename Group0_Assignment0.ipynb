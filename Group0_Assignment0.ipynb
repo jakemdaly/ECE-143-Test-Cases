{
 "cells": [
  {
   "cell_type": "markdown",
   "metadata": {},
   "source": [
    "# Question 1 [Copy the question here]\n",
    "Given the following string\n",
    "\n",
    "\"\"\"Mary had a little lamb\n",
    "its fleece was white as snow\n",
    "and everywhere that Mary went\n",
    "the lamb was sure to go\"\"\"\n",
    "\n",
    "1. Write a `compute_average_word_length` function to compute the average length of the words in this string.\n",
    "2. Supply an option to your function to exclude redundancies in the words, re-compute the average length of the words.\n",
    "\n",
    "\n",
    "For 2 above, you want to remove repeated words. For instance, one,two,three,two after removing the redundancies becomes one,two,three. The words are case-sensitive.\n",
    "\n",
    "Function signature: compute_average_word_length(instring,unique=False)\n",
    "\n",
    "Where instring is the string we'll be computing on. Unique determines whether or not we want to include duplicates. If unique=False we include duplicates, if unique=True then we do not count duplicates."
   ]
  },
  {
   "cell_type": "markdown",
   "metadata": {},
   "source": [
    "**Validation Tests** <br>\n",
    "Check for corner cases and constraints in the inputs enlist all cases used for testing"
   ]
  },
  {
   "cell_type": "code",
   "execution_count": null,
   "metadata": {},
   "outputs": [],
   "source": [
    "assert (instring, str), \"instring must be an integer\"\n",
    "assert (unique, bool), \"unique must be a Boolean\"\n",
    "# Add additional tests here"
   ]
  },
  {
   "cell_type": "markdown",
   "metadata": {},
   "source": [
    "**Functional Tests** <br>\n",
    "Check function output matches expected result enlist all cases used for testing"
   ]
  },
  {
   "cell_type": "code",
   "execution_count": null,
   "metadata": {},
   "outputs": [],
   "source": [
    "data = \"\"\"Mary had a little lamb its fleece was white as snow and everywhere that Mary went the lamb was sure to go\"\"\"\n",
    "assert 3.818==compute_average_word_length(data), \"checking for unique=False\""
   ]
  },
  {
   "cell_type": "code",
   "execution_count": null,
   "metadata": {},
   "outputs": [],
   "source": [
    "data = \"\"\"Mary had a little lamb its fleece was white as snow and everywhere that Mary went the lamb was sure to go\"\"\"\n",
    "assert 3.8421 ==compute_average_word_length(data), \"checking for unique=True\""
   ]
  },
  {
   "cell_type": "markdown",
   "metadata": {},
   "source": [
    "... Repeat above format for all questions in the assignment"
   ]
  },
  {
   "cell_type": "code",
   "execution_count": null,
   "metadata": {},
   "outputs": [],
   "source": []
  }
 ],
 "metadata": {
  "kernelspec": {
   "display_name": "Python 3",
   "language": "python",
   "name": "python3"
  },
  "language_info": {
   "codemirror_mode": {
    "name": "ipython",
    "version": 3
   },
   "file_extension": ".py",
   "mimetype": "text/x-python",
   "name": "python",
   "nbconvert_exporter": "python",
   "pygments_lexer": "ipython3",
   "version": "3.7.6"
  }
 },
 "nbformat": 4,
 "nbformat_minor": 4
}
