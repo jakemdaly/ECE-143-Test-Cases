{
 "cells": [
  {
   "cell_type": "markdown",
   "metadata": {},
   "source": [
    "Split out column entries\n",
    "Load following survey data into a Pandas dataframe called x and note that the top part of the Is there anything in particular you want to use Python for? column looks like the following,\n",
    "\tIs there anything in particular you want to use Python for?\n",
    "ID\t\n",
    "3931\tData extraction and processing, Data analytics...\n",
    "4205\tData extraction and processing\n",
    "3669\tData analytics, Machine learning, Statistical ...\n",
    "1452\tData extraction and processing, Data analytics...\n",
    "2968\tNumerical processing, Data analytics, Machine ...\n",
    "The problem with this column is that there are multiple comma-separated values in it. Please write a Python function called split_count that can take this column as input and output the following Pandas dataframe.\n",
    "\tcount\n",
    "All of the above\t1\n",
    "Computer vision\t1\n",
    "Image Processing\t1\n",
    "Computer vision/image processing\t1\n",
    "As a general skill\t1\n",
    "scripting seems desirable for many jobs\t1\n",
    "not sure\t1\n",
    "Computer Vision\t1\n",
    "EDA tools\t1\n",
    "Web development\t104\n",
    "Numerical processing\t173\n",
    "Scientific visualization\t198\n",
    "Statistical analysis\t222\n",
    "Data extraction and processing\t291\n",
    "Data analytics\t351\n",
    "Machine learning\t381\n",
    "\n",
    "Here is the function signature: split_count(x) where x is a pd.Series object and it returns a pd.DataFrame object."
   ]
  },
  {
   "cell_type": "markdown",
   "metadata": {},
   "source": [
    "Validation Tests\n",
    "Check for corner cases and constraints in the inputs enlist all cases used for testing"
   ]
  },
  {
   "cell_type": "code",
   "execution_count": null,
   "metadata": {},
   "outputs": [],
   "source": [
    "assert isinstance(x,pd.Series)"
   ]
  },
  {
   "cell_type": "markdown",
   "metadata": {},
   "source": [
    "Functional Tests\n",
    "Check function output matches expected result enlist all cases used for testing"
   ]
  },
  {
   "cell_type": "code",
   "execution_count": null,
   "metadata": {},
   "outputs": [],
   "source": [
    "import pandas as pd\n",
    "survey_data = pd.read_csv('survey_data.csv') \n",
    "x = survey_data.loc[:,'Is there anything in particular you want to use Python for?']\n",
    "\n",
    "new_s = x.str.split(', ').apply(lambda y: pd.Series(y).value_counts()).sum()                \n",
    "df = new_s.to_frame()                                                                       \n",
    "df.columns = ['count']                                                                      \n",
    "df = df.astype({'count':int})                                                               \n",
    "assert isinstance(split_count(x),pd.DataFrame) # asserting the output is a dataframe\n",
    "assert split_count(x) == df # assert output of function is dataframe generated above"
   ]
  }
 ],
 "metadata": {
  "kernelspec": {
   "display_name": "Python 3",
   "language": "python",
   "name": "python3"
  },
  "language_info": {
   "codemirror_mode": {
    "name": "ipython",
    "version": 3
   },
   "file_extension": ".py",
   "mimetype": "text/x-python",
   "name": "python",
   "nbconvert_exporter": "python",
   "pygments_lexer": "ipython3",
   "version": "3.7.6"
  }
 },
 "nbformat": 4,
 "nbformat_minor": 2
}
