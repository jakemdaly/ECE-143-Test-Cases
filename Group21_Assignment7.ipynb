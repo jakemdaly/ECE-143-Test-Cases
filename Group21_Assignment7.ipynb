{
 "cells": [
  {
   "cell_type": "markdown",
   "metadata": {},
   "source": [
    "# Put your questions in order starting here"
   ]
  },
  {
   "cell_type": "markdown",
   "metadata": {},
   "source": [
    "# Pandas Categorical Part 1"
   ]
  },
  {
   "cell_type": "markdown",
   "metadata": {},
   "source": [
    "Split out column entries\n",
    "Load following survey data into a Pandas dataframe called x and note that the top part of the Is there anything in particular you want to use Python for? column looks like the following,\n",
    "\tIs there anything in particular you want to use Python for?\n",
    "ID\t\n",
    "3931\tData extraction and processing, Data analytics...\n",
    "4205\tData extraction and processing\n",
    "3669\tData analytics, Machine learning, Statistical ...\n",
    "1452\tData extraction and processing, Data analytics...\n",
    "2968\tNumerical processing, Data analytics, Machine ...\n",
    "The problem with this column is that there are multiple comma-separated values in it. Please write a Python function called split_count that can take this column as input and output the following Pandas dataframe.\n",
    "\tcount\n",
    "All of the above\t1\n",
    "Computer vision\t1\n",
    "Image Processing\t1\n",
    "Computer vision/image processing\t1\n",
    "As a general skill\t1\n",
    "scripting seems desirable for many jobs\t1\n",
    "not sure\t1\n",
    "Computer Vision\t1\n",
    "EDA tools\t1\n",
    "Web development\t104\n",
    "Numerical processing\t173\n",
    "Scientific visualization\t198\n",
    "Statistical analysis\t222\n",
    "Data extraction and processing\t291\n",
    "Data analytics\t351\n",
    "Machine learning\t381\n",
    "\n",
    "Here is the function signature: split_count(x) where x is a pd.Series object and it returns a pd.DataFrame object."
   ]
  },
  {
   "cell_type": "markdown",
   "metadata": {},
   "source": [
    "**Validation Tests** <br>\n",
    "Check for corner cases and constraints in the inputs enlist all cases used for testing"
   ]
  },
  {
   "cell_type": "code",
   "execution_count": null,
   "metadata": {},
   "outputs": [],
   "source": [
    "assert isinstance(x,pd.Series)"
   ]
  },
  {
   "cell_type": "markdown",
   "metadata": {},
   "source": [
    "**Functional Tests** <br>\n",
    "Check function output matches expected result enlist all cases used for testing"
   ]
  },
  {
   "cell_type": "code",
   "execution_count": null,
   "metadata": {},
   "outputs": [],
   "source": [
    "import pandas as pd\n",
    "survey_data = pd.read_csv('survey_data.csv') \n",
    "x = survey_data.loc[:,'Is there anything in particular you want to use Python for?']\n",
    "\n",
    "new_s = x.str.split(', ').apply(lambda y: pd.Series(y).value_counts()).sum()                \n",
    "df = new_s.to_frame()                                                                       \n",
    "df.columns = ['count']                                                                      \n",
    "df = df.astype({'count':int})                                                               \n",
    "assert isinstance(split_count(x),pd.DataFrame) # asserting the output is a dataframe\n",
    "assert split_count(x) == df # assert output of function is dataframe generated above"
   ]
  },
  {
   "cell_type": "markdown",
   "metadata": {},
   "source": [
    "# Pandas Categorical Part 2\n",
    "\n",
    "Add a new column using Timestamp column\n",
    "Using the same survey dataframe from before, create a dataframe column month-yr with ID as row-index like the following,\n",
    "\tmonth-yr\n",
    "ID\t\n",
    "3931\tSep-2017\n",
    "4205\tSep-2017\n",
    "...\t...\n",
    "2524\tJan-2019\n",
    "Note that each of the entries is a string. That is, given that your original survey dataframe is x, you should be able to produce the output above from\n",
    ">>> x['month-yr'] \n",
    "Your function add_month_yr(x) should take in the x survey dataframe and then output the same dataframe with a new month-yr column.\n",
    "Here is the function signature: add_month_yr(x) where x is a pd.DataFrame and returns the same pd.DataFrame with the new column. This means all you have to do is take the input dataframe and add a single column to it."
   ]
  },
  {
   "cell_type": "markdown",
   "metadata": {},
   "source": [
    "**Validation Tests** <br>\n",
    "Check for corner cases and constraints in the inputs enlist all cases used for testing"
   ]
  },
  {
   "cell_type": "code",
   "execution_count": null,
   "metadata": {},
   "outputs": [],
   "source": [
    "assert isinstance(x,pd.DataFrame)"
   ]
  },
  {
   "cell_type": "markdown",
   "metadata": {},
   "source": [
    "**Functional Tests**<br>\n",
    "Check function output matches expected result enlist all cases used for testing"
   ]
  },
  {
   "cell_type": "code",
   "execution_count": null,
   "metadata": {},
   "outputs": [],
   "source": [
    "import pandas as pd\n",
    "x = pd.read_csv('survey_data.csv') \n",
    "assert isinstance(add_month_yr(x),pd.DataFrame) # assert output of function is a dataframe\n",
    "x['month-yr'] = pd.to_datetime(x['Timestamp']).dt.strftime('%b-%Y')\n",
    "assert add_month_yr(x) == x # assert output of function is x dataframe with month-yr column"
   ]
  },
  {
   "cell_type": "markdown",
   "metadata": {},
   "source": [
    "##  Pandas categorical Part 3\n",
    "Write a function count_month_yr to create the following dataframe using your new column month-yr,"
   ]
  },
  {
   "cell_type": "markdown",
   "metadata": {},
   "source": [
    " | |Timestamp|\n",
    " |----|-----|\n",
    " |month-yr|  | \n",
    " |Apr-2018| 28 | \n",
    " |Feb-2018 | 2 |\n",
    " |Jan-2018 | 148 |\n",
    " |Mar-2018 | 41 |\n",
    " |Oct-2018 | 6 |\n",
    " |Sep-2018 | 74 |\n",
    " |Sep-2018 | 130 |"
   ]
  },
  {
   "cell_type": "markdown",
   "metadata": {},
   "source": [
    "Notice that the order of the dates is incorrect. We will fix that later. Remember to include your add_month_yr code from the previous part, as your new function needs the output from it.\n",
    "\n",
    "Here is the function signature: count_month_yr(x) where x is a pd.DataFrame that returns a pd.DataFrame.\n",
    "\n",
    "Please put your Python code in a Python script file and upload it. Please retain your submitted source files! Remember to use all the best practices we discussed in class. You can use any module in the Python standard library, but third-party modules (e.g., Numpy, Pandas) are restricted to those explicitly mentioned in the problem description.\n",
    "\n",
    "After you have submitted your file, do not use the browser back or reload buttons to navigate or open the page in multiple browser tabs, as this may cause your attempts to decrease unexpectedly. It may take up to thirty seconds for your code to be processed, so please be patient.\n",
    "\n",
    "Good luck!"
   ]
  },
  {
   "cell_type": "markdown",
   "metadata": {},
   "source": [
    "**Validation Tests** <br>\n",
    "Check for corner cases and constraints in the inputs enlist all cases used for testing"
   ]
  },
  {
   "cell_type": "code",
   "execution_count": null,
   "metadata": {},
   "outputs": [],
   "source": [
    "import pandas as pd\n",
    "assert(isinstance(x, pd.DataFrame)) #input x must be a Pandas Dataframe, if some non dataframe input is sent, should raise assertion error"
   ]
  },
  {
   "cell_type": "markdown",
   "metadata": {},
   "source": [
    "**Functional Tests** <br>\n",
    "Check function output matches expected result enlist all cases used for testing"
   ]
  },
  {
   "cell_type": "code",
   "execution_count": null,
   "metadata": {},
   "outputs": [],
   "source": [
    "df = pd.read_csv('survey_data_.csv')\n",
    "x = (add_month_yr(df))\n",
    "assert(isinstance(x,pd.DataFrame))     #checking if add_month_yr function returns a Pandas dataframe"
   ]
  },
  {
   "cell_type": "code",
   "execution_count": null,
   "metadata": {},
   "outputs": [],
   "source": [
    "y = (count_month_yr(x))\n",
    "assert(isinstance(y,pd.DataFrame))   #checking if count_month_yr function returns a Pandas dataframe"
   ]
  },
  {
   "cell_type": "code",
   "execution_count": null,
   "metadata": {},
   "outputs": [],
   "source": [
    "d = {'month-yr': ['Apr-2018', 'Feb-2018', 'Jan-2018', 'Jan-2019', 'Mar-2018', 'Oct-2018', 'Sep-2017', 'Sep-2018' ], 'Timestamp': [28, 2, 148,57, 41, 6, 74, 130]}\n",
    "dfn = pd.DataFrame(data=d)\n",
    "dfn.set_index('month-yr', inplace=True)\n",
    "dfn = dfn.sort_index()\n",
    "y = y.sort_index()\n",
    "assert(dfn.equals(y)) #checks if the dataframe consists of columns month-yr and Timestamp and has the required entries"
   ]
  },
  {
   "cell_type": "markdown",
   "metadata": {},
   "source": [
    "# Rational Numbers\n",
    "\n",
    "Implement a class of rational numbers (ratio of integers) with the following interfaces and behaviours\n",
    "\n"
   ]
  },
  {
   "cell_type": "markdown",
   "metadata": {},
   "source": [
    "**Validation Tests** <br>\n",
    "Check for corner cases and constraints in the inputs enlist all cases used for testing"
   ]
  },
  {
   "cell_type": "code",
   "execution_count": null,
   "metadata": {},
   "outputs": [],
   "source": [
    "# For Rational(numerator, denominator)\n",
    "assert isinstance(numerator, int), \"the numerator must be an integer\"\n",
    "assert isinstance(denominator, int), \"the denominator must be an interger\"\n",
    "assert denominator != 0, \"the denominator must be non-zero\""
   ]
  },
  {
   "cell_type": "markdown",
   "metadata": {},
   "source": [
    "**Functional Tests** <br>\n",
    "Check function output matches expected result enlist all cases used for testing"
   ]
  },
  {
   "cell_type": "code",
   "execution_count": null,
   "metadata": {},
   "outputs": [],
   "source": [
    "assert repr(Rational(10,1)) == '10', \"check for __repr__ implementation\"\n",
    "assert Rational(20,2) == Rational(10,1), \"check for __eq__ implemention and simplification\"\n",
    "assert (sorted([Rational(10,3), Rational(3,10), Rational(5,2), Rational(3,10)]) == [Rational(3,10), Rational(3,10), Rational(5,2), Rational(10,3)]), \"check for sorting functionality\"\n",
    "assert Rational(-1,5) + Rational(11,4) * Rational(100,8) - Rational(2,8) == Rational(1357,40), \"check for __sub__, __mul__ and __add__ implementations\"\n",
    "assert -Rational(123,2)/7 + 2/Rational(28,5) == Rational(-59, 7), \"check for __rtruediv__ and __truediv__ with integer\"\n",
    "assert float(Rational(257,125)) == 2.056, \"check for float implementation\"\n",
    "assert int(Rational(10,1)) == 10 , \"check for int implementation\""
   ]
  },
  {
   "cell_type": "markdown",
   "metadata": {},
   "source": [
    "# Rational Square Root\n",
    "\n",
    "\n",
    "Using your Rational class for representing rational numbers, write a function square_root_rational which takes an input rational number x and returns the square root of x to absolute precision abs_tol. Your function should return a Rational number instance as output. Here is an example,\n",
    "\n",
    "`square_root_rational(Rational(1112,3),abs_tol=Rational(1,1000)) # output is Rational instance\n",
    " 10093849/524288`\n",
    " \n",
    "\n",
    "\n",
    "Here is your function signature: square_root_rational(x,abs_tol=Rational(1,1000)).\n",
    "\n",
    "Hint: Use the bisection algorithm to compute the square root."
   ]
  },
  {
   "cell_type": "markdown",
   "metadata": {},
   "source": [
    "**Validation Tests** <br>\n",
    "Check for corner cases and constraints in the inputs enlist all cases used for testing"
   ]
  },
  {
   "cell_type": "code",
   "execution_count": null,
   "metadata": {},
   "outputs": [],
   "source": [
    "assert(isinstance(abs_tol, Rational))"
   ]
  },
  {
   "cell_type": "markdown",
   "metadata": {},
   "source": [
    "**Functional Tests** <br>\n",
    "Check function output matches expected result enlist all cases used for testing"
   ]
  },
  {
   "cell_type": "code",
   "execution_count": null,
   "metadata": {},
   "outputs": [],
   "source": [
    "import random\n",
    "\n",
    "# set the low, high range of numerators and denominators to test\n",
    "low = 1\n",
    "high = 10000\n",
    "\n",
    "#how many test trials we want to generate\n",
    "n = 1\n",
    "nums = [random.randint(low, high) for i in range(n)]\n",
    "dens = [random.randint(low, high) for i in range(n)]\n",
    "tols = [random.randint(low, high) for i in range(n)]\n",
    "\n",
    "# zip 'em and run 'em\n",
    "# NOTE: Can definitely take a while for large irrational numbers and/or small tolerances\n",
    "for num, den, tol in zip(nums, dens, tols):\n",
    "    operand = Rational(num, den)\n",
    "    abs_tol = Rational(1,tol)\n",
    "    assert abs(float(square_root_rational(operand, abs_tol)) - (num/den)**(1/2)) < float(tol), f\"[Rational Square Root] Test failed for testcase (numerator={num}, denominator={den}, tol={tol})\"\n"
   ]
  }
 ],
 "metadata": {
  "kernelspec": {
   "display_name": "Python 3",
   "language": "python",
   "name": "python3"
  },
  "language_info": {
   "codemirror_mode": {
    "name": "ipython",
    "version": 3
   },
   "file_extension": ".py",
   "mimetype": "text/x-python",
   "name": "python",
   "nbconvert_exporter": "python",
   "pygments_lexer": "ipython3",
   "version": "3.7.4"
  }
 },
 "nbformat": 4,
 "nbformat_minor": 4
}
