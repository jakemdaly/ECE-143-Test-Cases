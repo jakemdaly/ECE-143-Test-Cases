{
 "cells": [
  {
   "cell_type": "markdown",
   "metadata": {},
   "source": [
    "# Put your questions in order starting here"
   ]
  },
  {
   "cell_type": "markdown",
   "metadata": {},
   "source": [
    "# Pandas Categorical Part 1"
   ]
  },
  {
   "cell_type": "markdown",
   "metadata": {},
   "source": [
    "Split out column entries\n",
    "Load following survey data into a Pandas dataframe called x and note that the top part of the Is there anything in particular you want to use Python for? column looks like the following,\n",
    "\tIs there anything in particular you want to use Python for?\n",
    "ID\t\n",
    "3931\tData extraction and processing, Data analytics...\n",
    "4205\tData extraction and processing\n",
    "3669\tData analytics, Machine learning, Statistical ...\n",
    "1452\tData extraction and processing, Data analytics...\n",
    "2968\tNumerical processing, Data analytics, Machine ...\n",
    "The problem with this column is that there are multiple comma-separated values in it. Please write a Python function called split_count that can take this column as input and output the following Pandas dataframe.\n",
    "\tcount\n",
    "All of the above\t1\n",
    "Computer vision\t1\n",
    "Image Processing\t1\n",
    "Computer vision/image processing\t1\n",
    "As a general skill\t1\n",
    "scripting seems desirable for many jobs\t1\n",
    "not sure\t1\n",
    "Computer Vision\t1\n",
    "EDA tools\t1\n",
    "Web development\t104\n",
    "Numerical processing\t173\n",
    "Scientific visualization\t198\n",
    "Statistical analysis\t222\n",
    "Data extraction and processing\t291\n",
    "Data analytics\t351\n",
    "Machine learning\t381\n",
    "\n",
    "Here is the function signature: split_count(x) where x is a pd.Series object and it returns a pd.DataFrame object."
   ]
  },
  {
   "cell_type": "markdown",
   "metadata": {},
   "source": [
    "**Validation Tests** <br>\n",
    "Check for corner cases and constraints in the inputs enlist all cases used for testing"
   ]
  },
  {
   "cell_type": "code",
   "execution_count": null,
   "metadata": {},
   "outputs": [],
   "source": [
    "assert isinstance(x,pd.Series)"
   ]
  },
  {
   "cell_type": "markdown",
   "metadata": {},
   "source": [
    "**Functional Tests** <br>\n",
    "Check function output matches expected result enlist all cases used for testing"
   ]
  },
  {
   "cell_type": "code",
   "execution_count": null,
   "metadata": {},
   "outputs": [],
   "source": [
    "import pandas as pd\n",
    "survey_data = pd.read_csv('survey_data.csv') \n",
    "x = survey_data.loc[:,'Is there anything in particular you want to use Python for?']\n",
    "\n",
    "new_s = x.str.split(', ').apply(lambda y: pd.Series(y).value_counts()).sum()                \n",
    "df = new_s.to_frame()                                                                       \n",
    "df.columns = ['count']                                                                      \n",
    "df = df.astype({'count':int})                                                               \n",
    "assert isinstance(split_count(x),pd.DataFrame) # asserting the output is a dataframe\n",
    "assert split_count(x) == df # assert output of function is dataframe generated above"
   ]
  },
  {
   "cell_type": "markdown",
   "metadata": {},
   "source": [
    "# Pandas Categorical Part 2\n",
    "\n",
    "Add a new column using Timestamp column\n",
    "Using the same survey dataframe from before, create a dataframe column month-yr with ID as row-index like the following,\n",
    "\tmonth-yr\n",
    "ID\t\n",
    "3931\tSep-2017\n",
    "4205\tSep-2017\n",
    "...\t...\n",
    "2524\tJan-2019\n",
    "Note that each of the entries is a string. That is, given that your original survey dataframe is x, you should be able to produce the output above from\n",
    ">>> x['month-yr'] \n",
    "Your function add_month_yr(x) should take in the x survey dataframe and then output the same dataframe with a new month-yr column.\n",
    "Here is the function signature: add_month_yr(x) where x is a pd.DataFrame and returns the same pd.DataFrame with the new column. This means all you have to do is take the input dataframe and add a single column to it."
   ]
  },
  {
   "cell_type": "markdown",
   "metadata": {},
   "source": [
    "**Validation Tests** <br>\n",
    "Check for corner cases and constraints in the inputs enlist all cases used for testing"
   ]
  },
  {
   "cell_type": "code",
   "execution_count": null,
   "metadata": {},
   "outputs": [],
   "source": [
    "assert isinstance(x,pd.DataFrame)"
   ]
  },
  {
   "cell_type": "markdown",
   "metadata": {},
   "source": [
    "**Functional Tests**<br>\n",
    "Check function output matches expected result enlist all cases used for testing"
   ]
  },
  {
   "cell_type": "code",
   "execution_count": null,
   "metadata": {},
   "outputs": [],
   "source": [
    "import pandas as pd\n",
    "x = pd.read_csv('survey_data.csv') \n",
    "assert isinstance(add_month_yr(x),pd.DataFrame) # assert output of function is a dataframe\n",
    "x['month-yr'] = pd.to_datetime(x['Timestamp']).dt.strftime('%b-%Y')\n",
    "assert add_month_yr(x) == x # assert output of function is x dataframe with month-yr column"
   ]
  },
  {
   "cell_type": "markdown",
   "metadata": {},
   "source": [
    "# Rational Square Root\n",
    "\n",
    "\n",
    "Using your Rational class for representing rational numbers, write a function square_root_rational which takes an input rational number x and returns the square root of x to absolute precision abs_tol. Your function should return a Rational number instance as output. Here is an example,\n",
    "\n",
    "`square_root_rational(Rational(1112,3),abs_tol=Rational(1,1000)) # output is Rational instance\n",
    " 10093849/524288`\n",
    " \n",
    "\n",
    "\n",
    "Here is your function signature: square_root_rational(x,abs_tol=Rational(1,1000)).\n",
    "\n",
    "Hint: Use the bisection algorithm to compute the square root."
   ]
  },
  {
   "cell_type": "markdown",
   "metadata": {},
   "source": [
    "**Validation Tests** <br>\n",
    "Check for corner cases and constraints in the inputs enlist all cases used for testing"
   ]
  },
  {
   "cell_type": "code",
   "execution_count": null,
   "metadata": {},
   "outputs": [],
   "source": []
  },
  {
   "cell_type": "markdown",
   "metadata": {},
   "source": [
    "**Functional Tests** <br>\n",
    "Check function output matches expected result enlist all cases used for testing"
   ]
  },
  {
   "cell_type": "code",
   "execution_count": null,
   "metadata": {},
   "outputs": [],
   "source": []
  }
 ],
 "metadata": {
  "kernelspec": {
   "display_name": "Python 3",
   "language": "python",
   "name": "python3"
  },
  "language_info": {
   "codemirror_mode": {
    "name": "ipython",
    "version": 3
   },
   "file_extension": ".py",
   "mimetype": "text/x-python",
   "name": "python",
   "nbconvert_exporter": "python",
   "pygments_lexer": "ipython3",
   "version": "3.7.6"
  }
 },
 "nbformat": 4,
 "nbformat_minor": 4
}
